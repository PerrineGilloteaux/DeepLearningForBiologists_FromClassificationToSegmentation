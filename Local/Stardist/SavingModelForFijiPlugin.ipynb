{
 "cells": [
  {
   "cell_type": "code",
   "execution_count": 1,
   "id": "328b064b",
   "metadata": {},
   "outputs": [],
   "source": [
    "from utils_tf1 import saving_model_for_Fiji_plugin_interface, saving_model_for_Fiji_plugin"
   ]
  },
  {
   "cell_type": "code",
   "execution_count": 2,
   "id": "175fa79f",
   "metadata": {},
   "outputs": [
    {
     "name": "stdout",
     "output_type": "stream",
     "text": [
      "\u001b[1mInput model\n"
     ]
    },
    {
     "data": {
      "application/vnd.jupyter.widget-view+json": {
       "model_id": "aa38d5aab17243aabcdc3447ff9979d7",
       "version_major": 2,
       "version_minor": 0
      },
      "text/plain": [
       "FileChooser(path='./models', filename='', title='HTML(value='', layout=Layout(display='none'))', show_hidden='…"
      ]
     },
     "metadata": {},
     "output_type": "display_data"
    }
   ],
   "source": [
    "nb_runnings = 1\n",
    "\n",
    "parameters = saving_model_for_Fiji_plugin_interface(nb_runnings)"
   ]
  },
  {
   "cell_type": "code",
   "execution_count": 4,
   "id": "10cbaf12",
   "metadata": {},
   "outputs": [
    {
     "name": "stdout",
     "output_type": "stream",
     "text": [
      "Loading network weights from 'weights_best.h5'.\n",
      "Loading thresholds from 'thresholds.json'.\n",
      "Using default values: prob_thresh=0.629771, nms_thresh=0.3.\n",
      "INFO:tensorflow:No assets to save.\n",
      "INFO:tensorflow:No assets to write.\n",
      "INFO:tensorflow:SavedModel written to: C:\\Users\\tpecot\\AppData\\Local\\Temp\\tmps7zdyfa_\\model\\saved_model.pb\n"
     ]
    }
   ],
   "source": [
    "saving_model_for_Fiji_plugin(nb_runnings, parameters)"
   ]
  },
  {
   "cell_type": "code",
   "execution_count": null,
   "id": "3f386eaf",
   "metadata": {},
   "outputs": [],
   "source": []
  }
 ],
 "metadata": {
  "kernelspec": {
   "display_name": "Python 3 (ipykernel)",
   "language": "python",
   "name": "python3"
  },
  "language_info": {
   "codemirror_mode": {
    "name": "ipython",
    "version": 3
   },
   "file_extension": ".py",
   "mimetype": "text/x-python",
   "name": "python",
   "nbconvert_exporter": "python",
   "pygments_lexer": "ipython3",
   "version": "3.9.7"
  }
 },
 "nbformat": 4,
 "nbformat_minor": 5
}
